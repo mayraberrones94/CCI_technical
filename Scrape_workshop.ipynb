{
 "cells": [
  {
   "cell_type": "markdown",
   "metadata": {},
   "source": [
    "# Scrap it yourself.\n",
    "\n",
    "Use scrapy for webscraping"
   ]
  },
  {
   "cell_type": "code",
   "execution_count": 1,
   "metadata": {},
   "outputs": [],
   "source": [
    "from collections import Counter\n",
    "import pandas as pd\n",
    "from io import BytesIO\n",
    "from pathlib import Path \n",
    "import requests\n",
    "\n",
    "import csv"
   ]
  },
  {
   "cell_type": "code",
   "execution_count": 2,
   "metadata": {},
   "outputs": [
    {
     "data": {
      "text/plain": [
       "'Total size: 14.19MB'"
      ]
     },
     "execution_count": 2,
     "metadata": {},
     "output_type": "execute_result"
    }
   ],
   "source": [
    "GUTENBERG_CSV_URL = \"https://www.gutenberg.org/cache/epub/feeds/pg_catalog.csv.gz\"\n",
    "\n",
    "r = requests.get(GUTENBERG_CSV_URL)\n",
    "csv_text = r.content.decode(\"utf-8\")\n",
    "\n",
    "f\"Total size: {len(r.content) / 1024**2:0.2f}MB\""
   ]
  },
  {
   "cell_type": "markdown",
   "metadata": {},
   "source": [
    "The text as it is right now is not the usual csv format that pandas can read, because this file contains metadata, so we need to work with it a little bit different."
   ]
  },
  {
   "cell_type": "code",
   "execution_count": 4,
   "metadata": {},
   "outputs": [
    {
     "data": {
      "text/plain": [
       "{'Text#': '1',\n",
       " 'Type': 'Text',\n",
       " 'Issued': '1971-12-01',\n",
       " 'Title': 'The Declaration of Independence of the United States of America',\n",
       " 'Language': 'en',\n",
       " 'Authors': 'Jefferson, Thomas, 1743-1826',\n",
       " 'Subjects': 'United States -- History -- Revolution, 1775-1783 -- Sources; United States. Declaration of Independence',\n",
       " 'LoCC': 'E201; JK',\n",
       " 'Bookshelves': 'Politics; American Revolutionary War; United States Law'}"
      ]
     },
     "execution_count": 4,
     "metadata": {},
     "output_type": "execute_result"
    }
   ],
   "source": [
    "from io import StringIO\n",
    "\n",
    "next(csv.DictReader(StringIO(csv_text)))"
   ]
  },
  {
   "cell_type": "code",
   "execution_count": 6,
   "metadata": {},
   "outputs": [
    {
     "data": {
      "text/plain": [
       "42"
      ]
     },
     "execution_count": 6,
     "metadata": {},
     "output_type": "execute_result"
    }
   ],
   "source": [
    "austen_books = [book for book in csv.DictReader(StringIO(csv_text)) \n",
    "                   if 'Austen' in book['Authors']]\n",
    "\n",
    "len(austen_books)"
   ]
  },
  {
   "cell_type": "code",
   "execution_count": 8,
   "metadata": {},
   "outputs": [
    {
     "name": "stdout",
     "output_type": "stream",
     "text": [
      "[{'Text#': '105', 'Type': 'Text', 'Issued': '1994-02-01', 'Title': 'Persuasion', 'Language': 'en', 'Authors': 'Austen, Jane, 1775-1817', 'Subjects': 'England -- Social life and customs -- 19th century -- Fiction; Psychological fiction; Young women -- Fiction; Motherless families -- Fiction; Rejection (Psychology) -- Fiction; First loves -- Fiction; Dysfunctional families -- Fiction; Ship captains -- Fiction; Love stories; Regency fiction', 'LoCC': 'PR', 'Bookshelves': ''}, {'Text#': '121', 'Type': 'Text', 'Issued': '1994-04-01', 'Title': 'Northanger Abbey', 'Language': 'en', 'Authors': 'Austen, Jane, 1775-1817', 'Subjects': 'England -- Social life and customs -- 19th century -- Fiction; Satire; England -- Fiction; Young women -- Fiction; Love stories; Gothic fiction; Horror tales -- Appreciation -- Fiction; Books and reading -- Fiction; Gentry -- England -- Fiction; Marriage -- Economic aspects -- Fiction', 'LoCC': 'PR', 'Bookshelves': 'Gothic Fiction'}, {'Text#': '141', 'Type': 'Text', 'Issued': '1994-06-01', 'Title': 'Mansfield Park', 'Language': 'en', 'Authors': 'Austen, Jane, 1775-1817', 'Subjects': 'England -- Fiction; Young women -- Fiction; Love stories; Domestic fiction; Country homes -- Fiction; Adoptees -- Fiction; Children of the rich -- Fiction; Cousins -- Fiction; Uncles -- Fiction', 'LoCC': 'PR', 'Bookshelves': ''}, {'Text#': '158', 'Type': 'Text', 'Issued': '1994-08-01', 'Title': 'Emma', 'Language': 'en', 'Authors': 'Austen, Jane, 1775-1817', 'Subjects': 'Humorous stories; England -- Fiction; Young women -- Fiction; Love stories; Fathers and daughters -- Fiction; Bildungsromans; Mate selection -- Fiction; Female friendship -- Fiction', 'LoCC': 'PR', 'Bookshelves': ''}, {'Text#': '161', 'Type': 'Text', 'Issued': '1994-09-01', 'Title': 'Sense and Sensibility', 'Language': 'en', 'Authors': 'Austen, Jane, 1775-1817', 'Subjects': 'England -- Social life and customs -- 19th century -- Fiction; Inheritance and succession -- Fiction; England -- Fiction; Young women -- Fiction; Love stories; Sisters -- Fiction; Domestic fiction; Mate selection -- Fiction; Social classes -- Fiction; Gentry -- England -- Fiction; Regency fiction', 'LoCC': 'PR', 'Bookshelves': ''}, {'Text#': '946', 'Type': 'Text', 'Issued': '1997-06-01', 'Title': 'Lady Susan', 'Language': 'en', 'Authors': 'Austen, Jane, 1775-1817', 'Subjects': 'England -- Fiction; Widows -- Fiction; Mate selection -- Fiction; Mothers and daughters -- Fiction; Epistolary fiction', 'LoCC': 'PR', 'Bookshelves': ''}, {'Text#': '1212', 'Type': 'Text', 'Issued': '1998-02-01', 'Title': 'Love and Freindship [sic]', 'Language': 'en', 'Authors': 'Austen, Jane, 1775-1817', 'Subjects': 'Essays; Epistolary fiction; England -- Social life and customs -- 18th century -- Fiction', 'LoCC': 'PR', 'Bookshelves': ''}, {'Text#': '1342', 'Type': 'Text', 'Issued': '1998-06-01', 'Title': 'Pride and Prejudice', 'Language': 'en', 'Authors': 'Austen, Jane, 1775-1817', 'Subjects': 'England -- Fiction; Young women -- Fiction; Love stories; Sisters -- Fiction; Domestic fiction; Courtship -- Fiction; Social classes -- Fiction', 'LoCC': 'PR', 'Bookshelves': 'Best Books Ever Listings; Harvard Classics'}, {'Text#': '17797', 'Type': 'Text', 'Issued': '2006-02-19', 'Title': 'Memoir of Jane Austen', 'Language': 'en', 'Authors': 'Austen-Leigh, James Edward, 1798-1874', 'Subjects': 'Novelists, English -- 19th century -- Biography; Austen, Jane, 1775-1817', 'LoCC': 'PR', 'Bookshelves': ''}, {'Text#': '19839', 'Type': 'Sound', 'Issued': '2006-11-18', 'Title': 'Emma', 'Language': 'en', 'Authors': 'Austen, Jane, 1775-1817', 'Subjects': 'Humorous stories; England -- Fiction; Young women -- Fiction; Love stories; Fathers and daughters -- Fiction; Bildungsromans; Mate selection -- Fiction; Female friendship -- Fiction', 'LoCC': 'PR', 'Bookshelves': ''}, {'Text#': '20682', 'Type': 'Sound', 'Issued': '2007-02-03', 'Title': 'Northanger Abbey', 'Language': 'en', 'Authors': 'Austen, Jane, 1775-1817', 'Subjects': 'England -- Social life and customs -- 19th century -- Fiction; Satire; England -- Fiction; Young women -- Fiction; Love stories; Gothic fiction; Horror tales -- Appreciation -- Fiction; Books and reading -- Fiction; Gentry -- England -- Fiction; Marriage -- Economic aspects -- Fiction', 'LoCC': 'PR', 'Bookshelves': ''}, {'Text#': '20686', 'Type': 'Sound', 'Issued': '2007-02-03', 'Title': 'Pride and Prejudice', 'Language': 'en', 'Authors': 'Austen, Jane, 1775-1817', 'Subjects': 'England -- Fiction; Young women -- Fiction; Love stories; Sisters -- Fiction; Domestic fiction; Courtship -- Fiction; Social classes -- Fiction', 'LoCC': 'PR', 'Bookshelves': 'Best Books Ever Listings; Harvard Classics'}, {'Text#': '20687', 'Type': 'Sound', 'Issued': '2007-02-03', 'Title': 'Pride and Prejudice', 'Language': 'en', 'Authors': 'Austen, Jane, 1775-1817', 'Subjects': 'England -- Fiction; Young women -- Fiction; Love stories; Sisters -- Fiction; Domestic fiction; Courtship -- Fiction; Social classes -- Fiction', 'LoCC': 'PR', 'Bookshelves': 'Best Books Ever Listings; Harvard Classics'}, {'Text#': '21839', 'Type': 'Text', 'Issued': '2007-06-15', 'Title': 'Sense and Sensibility', 'Language': 'en', 'Authors': 'Austen, Jane, 1775-1817; Dobson, Austin, 1840-1921 [Commentator]; Thomson, Hugh, 1860-1920 [Illustrator]', 'Subjects': 'England -- Social life and customs -- 19th century -- Fiction; Inheritance and succession -- Fiction; England -- Fiction; Young women -- Fiction; Love stories; Sisters -- Fiction; Domestic fiction; Mate selection -- Fiction; Social classes -- Fiction; Gentry -- England -- Fiction; Regency fiction', 'LoCC': 'PR', 'Bookshelves': ''}, {'Text#': '22536', 'Type': 'Text', 'Issued': '2007-09-07', 'Title': 'Jane Austen, Her Life and Letters: A Family Record', 'Language': 'en', 'Authors': 'Austen-Leigh, William; Austen-Leigh, Richard Arthur, 1872-1961', 'Subjects': 'Novelists, English -- 19th century -- Family relationships; Austen, Jane, 1775-1817; Austen, Jane, 1775-1817 -- Family', 'LoCC': 'PR', 'Bookshelves': ''}, {'Text#': '22953', 'Type': 'Sound', 'Issued': '2007-10-01', 'Title': 'Lady Susan', 'Language': 'en', 'Authors': 'Austen, Jane, 1775-1817', 'Subjects': 'England -- Fiction; Widows -- Fiction; Mate selection -- Fiction; Mothers and daughters -- Fiction; Epistolary fiction', 'LoCC': 'PR', 'Bookshelves': ''}, {'Text#': '22954', 'Type': 'Sound', 'Issued': '2007-10-01', 'Title': 'Love and Freindship [sic]', 'Language': 'en', 'Authors': 'Austen, Jane, 1775-1817', 'Subjects': 'Epistolary fiction; England -- Social life and customs -- 18th century -- Fiction', 'LoCC': 'PR', 'Bookshelves': ''}, {'Text#': '22962', 'Type': 'Sound', 'Issued': '2007-10-01', 'Title': 'Mansfield Park', 'Language': 'en', 'Authors': 'Austen, Jane, 1775-1817', 'Subjects': 'England -- Fiction; Young women -- Fiction; Love stories; Domestic fiction; Country homes -- Fiction; Adoptees -- Fiction; Children of the rich -- Fiction; Cousins -- Fiction; Uncles -- Fiction', 'LoCC': 'PR', 'Bookshelves': ''}, {'Text#': '22963', 'Type': 'Sound', 'Issued': '2007-10-01', 'Title': 'Persuasion', 'Language': 'en', 'Authors': 'Austen, Jane, 1775-1817', 'Subjects': 'England -- Social life and customs -- 19th century -- Fiction; Psychological fiction; Young women -- Fiction; Motherless families -- Fiction; Rejection (Psychology) -- Fiction; First loves -- Fiction; Dysfunctional families -- Fiction; Ship captains -- Fiction; Love stories; Regency fiction', 'LoCC': 'PR', 'Bookshelves': ''}, {'Text#': '22964', 'Type': 'Sound', 'Issued': '2007-10-01', 'Title': 'Sense and Sensibility', 'Language': 'en', 'Authors': 'Austen, Jane, 1775-1817', 'Subjects': 'England -- Social life and customs -- 19th century -- Fiction; Inheritance and succession -- Fiction; England -- Fiction; Young women -- Fiction; Love stories; Sisters -- Fiction; Domestic fiction; Mate selection -- Fiction; Social classes -- Fiction; Gentry -- England -- Fiction; Regency fiction', 'LoCC': 'PR', 'Bookshelves': ''}, {'Text#': '25946', 'Type': 'Text', 'Issued': '2008-07-01', 'Title': 'Gevoel en verstand', 'Language': 'nl', 'Authors': 'Austen, Jane, 1775-1817; Loman-van Uildriks, Gonne, 1863-1921 [Translator]', 'Subjects': 'England -- Social life and customs -- 19th century -- Fiction; Inheritance and succession -- Fiction; England -- Fiction; Young women -- Fiction; Love stories; Sisters -- Fiction; Domestic fiction; Mate selection -- Fiction; Social classes -- Fiction', 'LoCC': 'PR', 'Bookshelves': ''}, {'Text#': '26301', 'Type': 'Sound', 'Issued': '2008-08-01', 'Title': 'Pride and Prejudice', 'Language': 'en', 'Authors': 'Austen, Jane, 1775-1817', 'Subjects': 'England -- Fiction; Young women -- Fiction; Love stories; Sisters -- Fiction; Domestic fiction; Courtship -- Fiction; Social classes -- Fiction', 'LoCC': 'PR', 'Bookshelves': 'Best Books Ever Listings'}, {'Text#': '31100', 'Type': 'Text', 'Issued': '2010-01-25', 'Title': 'The Complete Project Gutenberg Works of Jane Austen\\nA Linked Index of all PG Editions of Jane Austen', 'Language': 'en', 'Authors': 'Austen, Jane, 1775-1817; Widger, David, 1932-2021? [Editor]', 'Subjects': 'Love stories, English; England -- Social life and customs -- Fiction', 'LoCC': 'PR', 'Bookshelves': ''}, {'Text#': '33388', 'Type': 'Text', 'Issued': '2010-08-09', 'Title': \"Raison et sensibilité, ou les deux manières d'aimer (Tome 1)\", 'Language': 'fr', 'Authors': 'Austen, Jane, 1775-1817; Montolieu, Isabelle de, 1751-1832 [Translator]', 'Subjects': 'England -- Social life and customs -- 19th century -- Fiction; Inheritance and succession -- Fiction; England -- Fiction; Young women -- Fiction; Love stories; Sisters -- Fiction; Domestic fiction; Mate selection -- Fiction; Social classes -- Fiction; Gentry -- England -- Fiction; Regency fiction', 'LoCC': 'PR', 'Bookshelves': 'FR Littérature'}, {'Text#': '33513', 'Type': 'Text', 'Issued': '2010-08-23', 'Title': 'The Frightened Planet', 'Language': 'en', 'Authors': 'Austen, Sidney', 'Subjects': 'Science fiction; Short stories', 'LoCC': 'PS', 'Bookshelves': ''}, {'Text#': '35151', 'Type': 'Text', 'Issued': '2011-02-03', 'Title': \"Raison et sensibilité, ou les deux manières d'aimer (Tome 2)\", 'Language': 'fr', 'Authors': 'Austen, Jane, 1775-1817; Montolieu, Isabelle de, 1751-1832 [Translator]', 'Subjects': 'England -- Social life and customs -- 19th century -- Fiction; Inheritance and succession -- Fiction; England -- Fiction; Young women -- Fiction; Love stories; Sisters -- Fiction; Domestic fiction; Mate selection -- Fiction; Social classes -- Fiction; Gentry -- England -- Fiction; Regency fiction', 'LoCC': 'PR', 'Bookshelves': 'FR Littérature'}, {'Text#': '35163', 'Type': 'Text', 'Issued': '2011-02-04', 'Title': \"Raison et sensibilité, ou les deux manières d'aimer (Tome 3)\", 'Language': 'fr', 'Authors': 'Austen, Jane, 1775-1817; Montolieu, Isabelle de, 1751-1832 [Translator]', 'Subjects': 'England -- Social life and customs -- 19th century -- Fiction; Inheritance and succession -- Fiction; England -- Fiction; Young women -- Fiction; Love stories; Sisters -- Fiction; Domestic fiction; Mate selection -- Fiction; Social classes -- Fiction; Gentry -- England -- Fiction; Regency fiction', 'LoCC': 'PR', 'Bookshelves': 'FR Littérature'}, {'Text#': '36777', 'Type': 'Text', 'Issued': '2011-07-20', 'Title': 'Persuasion', 'Language': 'fr', 'Authors': 'Austen, Jane, 1775-1817; Letorsay, Madame [Translator]', 'Subjects': 'England -- Social life and customs -- 19th century -- Fiction; Psychological fiction; Young women -- Fiction; Motherless families -- Fiction; Rejection (Psychology) -- Fiction; First loves -- Fiction; Dysfunctional families -- Fiction; Ship captains -- Fiction; Love stories; Regency fiction', 'LoCC': 'PR', 'Bookshelves': 'FR Littérature'}, {'Text#': '37431', 'Type': 'Text', 'Issued': '2011-09-15', 'Title': \"Pride and Prejudice, a play founded on Jane Austen's novel\", 'Language': 'en', 'Authors': 'MacKaye, Steele, Mrs., 1845-1924; Austen, Jane, 1775-1817', 'Subjects': 'England -- Drama; Fairy tales -- United States; Courtship -- Drama; Young women -- Drama; Social classes -- Drama; Domestic drama; Sisters -- Drama; Bennet, Elizabeth (Fictitious character) -- Drama', 'LoCC': 'PR', 'Bookshelves': ''}, {'Text#': '37634', 'Type': 'Text', 'Issued': '2011-10-05', 'Title': \"Raison et sensibilité, ou les deux manières d'aimer (Tome 4)\", 'Language': 'fr', 'Authors': 'Austen, Jane, 1775-1817; Montolieu, Isabelle de, 1751-1832 [Translator]', 'Subjects': 'England -- Social life and customs -- 19th century -- Fiction; Inheritance and succession -- Fiction; England -- Fiction; Young women -- Fiction; Love stories; Sisters -- Fiction; Domestic fiction; Mate selection -- Fiction; Social classes -- Fiction; Gentry -- England -- Fiction; Regency fiction', 'LoCC': 'PR', 'Bookshelves': 'FR Littérature'}, {'Text#': '39897', 'Type': 'Text', 'Issued': '2012-06-02', 'Title': 'Discoveries Among the Ruins of Nineveh and Babylon', 'Language': 'en', 'Authors': 'Layard, Austen Henry, 1817-1894', 'Subjects': 'Middle East -- Description and travel; Scientific expeditions; Nineveh (Extinct city); Babylon (Extinct city)', 'LoCC': 'DS', 'Bookshelves': ''}, {'Text#': '42078', 'Type': 'Text', 'Issued': '2013-02-12', 'Title': 'The Letters of Jane Austen\\r\\nSelected from the compilation of her great nephew, Edward, Lord Bradbourne', 'Language': 'en', 'Authors': 'Austen, Jane, 1775-1817; Coolidge, Susan, 1835-1905 [Compiler]', 'Subjects': 'Novelists, English -- 19th century -- Correspondence; Austen, Jane, 1775-1817 -- Correspondence; Austen, Cassandra, 1773-1845', 'LoCC': 'PR', 'Bookshelves': ''}, {'Text#': '42671', 'Type': 'Text', 'Issued': '2013-05-09', 'Title': 'Pride and Prejudice', 'Language': 'en', 'Authors': 'Austen, Jane, 1775-1817; Chapman, R. W. (Robert William), 1881-1960 [Editor]', 'Subjects': 'England -- Fiction; Young women -- Fiction; Love stories; Sisters -- Fiction; Domestic fiction; Courtship -- Fiction; Social classes -- Fiction', 'LoCC': 'PR', 'Bookshelves': 'Best Books Ever Listings'}, {'Text#': '43741', 'Type': 'Text', 'Issued': '2013-09-16', 'Title': 'Old Friends and New Fancies: An Imaginary Sequel to the Novels of Jane Austen', 'Language': 'en', 'Authors': 'Brinton, Sybil G.; Austen, Jane, 1775-1817 [Other]', 'Subjects': 'Mate selection -- Fiction; Courtship -- Fiction; England -- Social life and customs -- 18th century -- Fiction', 'LoCC': 'PR', 'Bookshelves': ''}, {'Text#': '45186', 'Type': 'Text', 'Issued': '2014-03-22', 'Title': 'Ylpeys ja ennakkoluulo', 'Language': 'fi', 'Authors': 'Austen, Jane, 1775-1817; Joutsen, O. A. (Otto Aleksanteri), 1878-1936 [Translator]', 'Subjects': 'England -- Fiction; Young women -- Fiction; Love stories; Sisters -- Fiction; Domestic fiction; Courtship -- Fiction; Social classes -- Fiction', 'LoCC': 'PR', 'Bookshelves': ''}, {'Text#': '51078', 'Type': 'Text', 'Issued': '2016-01-30', 'Title': 'Venoms: Venomous Animals and Antivenomous Serum-therapeutics', 'Language': 'en', 'Authors': 'Calmette, A. (Albert), 1863-1933; Austen, E. E. (Ernest Edward), 1867-1938 [Translator]', 'Subjects': 'Toxins; Antitoxins; Venom; Poisonous snakes', 'LoCC': 'QP', 'Bookshelves': ''}, {'Text#': '54010', 'Type': 'Text', 'Issued': '2017-01-20', 'Title': 'The Younger Sister: A Novel, Vol. I.', 'Language': 'en', 'Authors': 'Hubback, Mrs. (Catherine-Anne Austen), 1818-1877', 'Subjects': 'England -- Fiction; Young women -- Fiction; Motherless families -- Fiction; Love stories; Sisters -- Fiction; Mate selection -- Fiction; Courtship -- Fiction; Children of clergy -- Fiction', 'LoCC': 'PR', 'Bookshelves': ''}, {'Text#': '54011', 'Type': 'Text', 'Issued': '2017-01-21', 'Title': 'The Younger Sister: A Novel, Vol. II.', 'Language': 'en', 'Authors': 'Hubback, Mrs. (Catherine-Anne Austen), 1818-1877', 'Subjects': 'England -- Fiction; Young women -- Fiction; Motherless families -- Fiction; Love stories; Sisters -- Fiction; Mate selection -- Fiction; Courtship -- Fiction; Children of clergy -- Fiction', 'LoCC': 'PR', 'Bookshelves': ''}, {'Text#': '54012', 'Type': 'Text', 'Issued': '2017-01-20', 'Title': 'The Younger Sister: A Novel, Vol. III.', 'Language': 'en', 'Authors': 'Hubback, Mrs. (Catherine-Anne Austen), 1818-1877', 'Subjects': 'England -- Fiction; Young women -- Fiction; Motherless families -- Fiction; Love stories; Sisters -- Fiction; Mate selection -- Fiction; Courtship -- Fiction; Children of clergy -- Fiction', 'LoCC': 'PR', 'Bookshelves': ''}, {'Text#': '54066', 'Type': 'Text', 'Issued': '2017-01-28', 'Title': 'The Younger Sister: A Novel, Volumes 1-3', 'Language': 'en', 'Authors': 'Hubback, Mrs. (Catherine-Anne Austen), 1818-1877', 'Subjects': 'England -- Fiction; Young women -- Fiction; Motherless families -- Fiction; Love stories; Sisters -- Fiction; Mate selection -- Fiction; Courtship -- Fiction; Children of clergy -- Fiction', 'LoCC': 'PR', 'Bookshelves': ''}, {'Text#': '63569', 'Type': 'Text', 'Issued': '2020-10-28', 'Title': 'The Watsons: By Jane Austen, Concluded by L. Oulton', 'Language': 'en', 'Authors': 'Austen, Jane, 1775-1817; Oulton, L.; Austen-Leigh, James Edward, 1798-1874 [Author of introduction, etc.]', 'Subjects': 'England -- Social life and customs -- 19th century -- Fiction; Young women -- Fiction; Mate selection -- Fiction; Families -- Fiction', 'LoCC': 'PR', 'Bookshelves': ''}, {'Text#': '70732', 'Type': 'Text', 'Issued': '2023-05-10', 'Title': 'The old vicarage', 'Language': 'en', 'Authors': 'Hubback, Mrs. (Catherine-Anne Austen), 1818-1877', 'Subjects': 'English fiction -- 19th century', 'LoCC': 'PR', 'Bookshelves': ''}]\n"
     ]
    }
   ],
   "source": [
    "print(austen_books)"
   ]
  },
  {
   "cell_type": "code",
   "execution_count": 12,
   "metadata": {},
   "outputs": [
    {
     "data": {
      "text/html": [
       "<div>\n",
       "<style scoped>\n",
       "    .dataframe tbody tr th:only-of-type {\n",
       "        vertical-align: middle;\n",
       "    }\n",
       "\n",
       "    .dataframe tbody tr th {\n",
       "        vertical-align: top;\n",
       "    }\n",
       "\n",
       "    .dataframe thead th {\n",
       "        text-align: right;\n",
       "    }\n",
       "</style>\n",
       "<table border=\"1\" class=\"dataframe\">\n",
       "  <thead>\n",
       "    <tr style=\"text-align: right;\">\n",
       "      <th></th>\n",
       "      <th>Text#</th>\n",
       "      <th>Type</th>\n",
       "      <th>Issued</th>\n",
       "      <th>Title</th>\n",
       "      <th>Language</th>\n",
       "      <th>Authors</th>\n",
       "      <th>Subjects</th>\n",
       "      <th>LoCC</th>\n",
       "      <th>Bookshelves</th>\n",
       "    </tr>\n",
       "  </thead>\n",
       "  <tbody>\n",
       "    <tr>\n",
       "      <th>0</th>\n",
       "      <td>105</td>\n",
       "      <td>Text</td>\n",
       "      <td>1994-02-01</td>\n",
       "      <td>Persuasion</td>\n",
       "      <td>en</td>\n",
       "      <td>Austen, Jane, 1775-1817</td>\n",
       "      <td>England -- Social life and customs -- 19th cen...</td>\n",
       "      <td>PR</td>\n",
       "      <td></td>\n",
       "    </tr>\n",
       "    <tr>\n",
       "      <th>1</th>\n",
       "      <td>121</td>\n",
       "      <td>Text</td>\n",
       "      <td>1994-04-01</td>\n",
       "      <td>Northanger Abbey</td>\n",
       "      <td>en</td>\n",
       "      <td>Austen, Jane, 1775-1817</td>\n",
       "      <td>England -- Social life and customs -- 19th cen...</td>\n",
       "      <td>PR</td>\n",
       "      <td>Gothic Fiction</td>\n",
       "    </tr>\n",
       "    <tr>\n",
       "      <th>2</th>\n",
       "      <td>141</td>\n",
       "      <td>Text</td>\n",
       "      <td>1994-06-01</td>\n",
       "      <td>Mansfield Park</td>\n",
       "      <td>en</td>\n",
       "      <td>Austen, Jane, 1775-1817</td>\n",
       "      <td>England -- Fiction; Young women -- Fiction; Lo...</td>\n",
       "      <td>PR</td>\n",
       "      <td></td>\n",
       "    </tr>\n",
       "    <tr>\n",
       "      <th>3</th>\n",
       "      <td>158</td>\n",
       "      <td>Text</td>\n",
       "      <td>1994-08-01</td>\n",
       "      <td>Emma</td>\n",
       "      <td>en</td>\n",
       "      <td>Austen, Jane, 1775-1817</td>\n",
       "      <td>Humorous stories; England -- Fiction; Young wo...</td>\n",
       "      <td>PR</td>\n",
       "      <td></td>\n",
       "    </tr>\n",
       "    <tr>\n",
       "      <th>4</th>\n",
       "      <td>161</td>\n",
       "      <td>Text</td>\n",
       "      <td>1994-09-01</td>\n",
       "      <td>Sense and Sensibility</td>\n",
       "      <td>en</td>\n",
       "      <td>Austen, Jane, 1775-1817</td>\n",
       "      <td>England -- Social life and customs -- 19th cen...</td>\n",
       "      <td>PR</td>\n",
       "      <td></td>\n",
       "    </tr>\n",
       "  </tbody>\n",
       "</table>\n",
       "</div>"
      ],
      "text/plain": [
       "  Text#  Type      Issued                  Title Language  \\\n",
       "0   105  Text  1994-02-01             Persuasion       en   \n",
       "1   121  Text  1994-04-01       Northanger Abbey       en   \n",
       "2   141  Text  1994-06-01         Mansfield Park       en   \n",
       "3   158  Text  1994-08-01                   Emma       en   \n",
       "4   161  Text  1994-09-01  Sense and Sensibility       en   \n",
       "\n",
       "                   Authors                                           Subjects  \\\n",
       "0  Austen, Jane, 1775-1817  England -- Social life and customs -- 19th cen...   \n",
       "1  Austen, Jane, 1775-1817  England -- Social life and customs -- 19th cen...   \n",
       "2  Austen, Jane, 1775-1817  England -- Fiction; Young women -- Fiction; Lo...   \n",
       "3  Austen, Jane, 1775-1817  Humorous stories; England -- Fiction; Young wo...   \n",
       "4  Austen, Jane, 1775-1817  England -- Social life and customs -- 19th cen...   \n",
       "\n",
       "  LoCC     Bookshelves  \n",
       "0   PR                  \n",
       "1   PR  Gothic Fiction  \n",
       "2   PR                  \n",
       "3   PR                  \n",
       "4   PR                  "
      ]
     },
     "execution_count": 12,
     "metadata": {},
     "output_type": "execute_result"
    }
   ],
   "source": [
    "austen_df = pd.DataFrame.from_dict(austen_books)\n",
    "austen_df.head(5)"
   ]
  },
  {
   "cell_type": "code",
   "execution_count": 13,
   "metadata": {},
   "outputs": [
    {
     "data": {
      "text/plain": [
       "array(['Persuasion', 'Northanger Abbey', 'Mansfield Park', 'Emma',\n",
       "       'Sense and Sensibility', 'Lady Susan', 'Love and Freindship [sic]',\n",
       "       'Pride and Prejudice', 'Memoir of Jane Austen',\n",
       "       'Jane Austen, Her Life and Letters: A Family Record',\n",
       "       'Gevoel en verstand',\n",
       "       'The Complete Project Gutenberg Works of Jane Austen\\nA Linked Index of all PG Editions of Jane Austen',\n",
       "       \"Raison et sensibilité, ou les deux manières d'aimer (Tome 1)\",\n",
       "       'The Frightened Planet',\n",
       "       \"Raison et sensibilité, ou les deux manières d'aimer (Tome 2)\",\n",
       "       \"Raison et sensibilité, ou les deux manières d'aimer (Tome 3)\",\n",
       "       \"Pride and Prejudice, a play founded on Jane Austen's novel\",\n",
       "       \"Raison et sensibilité, ou les deux manières d'aimer (Tome 4)\",\n",
       "       'Discoveries Among the Ruins of Nineveh and Babylon',\n",
       "       'The Letters of Jane Austen\\r\\nSelected from the compilation of her great nephew, Edward, Lord Bradbourne',\n",
       "       'Old Friends and New Fancies: An Imaginary Sequel to the Novels of Jane Austen',\n",
       "       'Ylpeys ja ennakkoluulo',\n",
       "       'Venoms: Venomous Animals and Antivenomous Serum-therapeutics',\n",
       "       'The Younger Sister: A Novel, Vol. I.',\n",
       "       'The Younger Sister: A Novel, Vol. II.',\n",
       "       'The Younger Sister: A Novel, Vol. III.',\n",
       "       'The Younger Sister: A Novel, Volumes 1-3',\n",
       "       'The Watsons: By Jane Austen, Concluded by L. Oulton',\n",
       "       'The old vicarage'], dtype=object)"
      ]
     },
     "execution_count": 13,
     "metadata": {},
     "output_type": "execute_result"
    }
   ],
   "source": [
    "austen_titles = austen_df['Title'].unique()\n",
    "austen_titles"
   ]
  },
  {
   "cell_type": "code",
   "execution_count": 15,
   "metadata": {},
   "outputs": [
    {
     "name": "stdout",
     "output_type": "stream",
     "text": [
      "0       105\n",
      "18    22963\n",
      "27    36777\n",
      "Name: Text#, dtype: object\n",
      "105\n"
     ]
    }
   ],
   "source": [
    "print(austen_df.loc[austen_df['Title']== 'Persuasion', 'Text#'])\n",
    "\n",
    "list_persuasion = austen_df.loc[austen_df['Title']== 'Persuasion', 'Text#']\n",
    "print(list_persuasion[0])"
   ]
  },
  {
   "cell_type": "code",
   "execution_count": 36,
   "metadata": {},
   "outputs": [
    {
     "name": "stdout",
     "output_type": "stream",
     "text": [
      "CHAPTER I.\n",
      "\n",
      "\n",
      "Sir Walter Elliot, of Kellynch Hall, in Somersetshire, was a man who,\n",
      "for his own amusement, never took up any book but the Baronetage; there\n",
      "he found occupation for an idle hour, and consolation in a distressed\n",
      "one; there his faculties were roused into admiration and respect, by\n",
      "contemplating the limited remnant of the earliest patents; there any\n",
      "unwelcome sensations, arising from domestic affairs changed naturally\n",
      "into pity and contempt as he turned over the almost endless creations\n",
      "of the last century; and there, if every other leaf were powerless, he\n",
      "could read his own history with an interest which never failed. This\n",
      "was the page at which the favourite volume always opened:\n",
      "\n",
      "“ELLIOT OF KELLYNCH HALL.\n",
      "\n",
      "\n",
      "“Walter Elliot, born March 1, 1760, married, July 15, 1784, Elizabeth,\n",
      "daughter of James Stevenson, Esq. of South Park, in the county of\n",
      "Gloucester, by\n"
     ]
    }
   ],
   "source": [
    "GUTENBERG_TEXT_URL = \"https://www.gutenberg.org/ebooks/{id}.txt.utf-8\"\n",
    "\n",
    "book_id = list_persuasion[0]\n",
    "r = requests.get(GUTENBERG_TEXT_URL.format(id=book_id))\n",
    "text = r.text[1250:]\n",
    "\n",
    "print(text[:900])"
   ]
  },
  {
   "cell_type": "code",
   "execution_count": 31,
   "metadata": {},
   "outputs": [],
   "source": [
    "#for name in list_persuasion:\n",
    "    #r = requests.get(GUTENBERG_TEXT_URL.format(id=book_id))\n",
    "    #text = r.text[1252:]"
   ]
  },
  {
   "cell_type": "code",
   "execution_count": 32,
   "metadata": {},
   "outputs": [],
   "source": [
    "from nltk.stem import WordNetLemmatizer\n",
    "import nltk"
   ]
  },
  {
   "cell_type": "code",
   "execution_count": 37,
   "metadata": {},
   "outputs": [
    {
     "data": {
      "text/plain": [
       "0        CHAPTER\n",
       "1             I.\n",
       "2            Sir\n",
       "3         Walter\n",
       "4        Elliot,\n",
       "          ...   \n",
       "86180         to\n",
       "86181       hear\n",
       "86182      about\n",
       "86183        new\n",
       "86184    eBooks.\n",
       "Length: 86185, dtype: object"
      ]
     },
     "execution_count": 37,
     "metadata": {},
     "output_type": "execute_result"
    }
   ],
   "source": [
    "pdText = pd.Series(text.split())\n",
    "pdText"
   ]
  },
  {
   "cell_type": "code",
   "execution_count": 38,
   "metadata": {},
   "outputs": [
    {
     "data": {
      "text/plain": [
       "Index([    0,  2611,  4581,  7407,  9204, 12509, 16302, 19735, 23070, 25930,\n",
       "       29782, 32781, 38311, 41053, 43577, 46386, 48794, 52279, 56400, 58792,\n",
       "       62284, 69271, 75138, 81701],\n",
       "      dtype='int64')"
      ]
     },
     "execution_count": 38,
     "metadata": {},
     "output_type": "execute_result"
    }
   ],
   "source": [
    "chaptersIdx = pdText[pdText=='CHAPTER'].index\n",
    "chaptersIdx"
   ]
  },
  {
   "cell_type": "code",
   "execution_count": 26,
   "metadata": {},
   "outputs": [
    {
     "data": {
      "text/plain": [
       "22"
      ]
     },
     "execution_count": 26,
     "metadata": {},
     "output_type": "execute_result"
    }
   ],
   "source": [
    "chapters=[]\n",
    "for i in range(len(chaptersIdx)-1):\n",
    "  start = chaptersIdx[i]\n",
    "  end = chaptersIdx[i+1]\n",
    "  chapters.append(pdText[start:end])\n",
    "\n",
    "len(chapters)"
   ]
  },
  {
   "cell_type": "code",
   "execution_count": 27,
   "metadata": {},
   "outputs": [
    {
     "data": {
      "text/plain": [
       "Text(0, 0.5, 'Number of Words')"
      ]
     },
     "execution_count": 27,
     "metadata": {},
     "output_type": "execute_result"
    },
    {
     "data": {
      "image/png": "[encoded data removed]",
      "text/plain": [
       "<Figure size 1600x900 with 1 Axes>"
      ]
     },
     "metadata": {},
     "output_type": "display_data"
    }
   ],
   "source": [
    "import matplotlib.pyplot as plt\n",
    "import seaborn as sns\n",
    "\n",
    "\n",
    "x = list(range(len(chapters)))\n",
    "y = [len(ch) for ch in chapters]\n",
    "plt.figure(figsize=(16,9))\n",
    "sns.barplot(x=x,y=y,color='black')\n",
    "plt.title('Number of words per chapter',fontsize=25)\n",
    "plt.xlabel('Chapters', fontsize=22)\n",
    "plt.ylabel('Number of Words',fontsize=22)"
   ]
  },
  {
   "cell_type": "code",
   "execution_count": 28,
   "metadata": {},
   "outputs": [],
   "source": [
    "lemma = WordNetLemmatizer()\n",
    "\n",
    "unq_words = []\n",
    "for i, ch in enumerate(chapters):\n",
    "  uw = {lemma.lemmatize(word) for word in ch}\n",
    "  unq_words.append(uw)\n",
    "y2 = [len(x) for x in unq_words]# "
   ]
  },
  {
   "cell_type": "code",
   "execution_count": 29,
   "metadata": {},
   "outputs": [
    {
     "name": "stderr",
     "output_type": "stream",
     "text": [
      "/var/folders/n6/yjb8n_px3wg30q8vy_hd6m6mmvt5d2/T/ipykernel_77954/3795672139.py:13: MatplotlibDeprecationWarning: The legendHandles attribute was deprecated in Matplotlib 3.7 and will be removed two minor releases later. Use legend_handles instead.\n",
      "  legends.legendHandles[0].set_color('cyan')\n"
     ]
    },
    {
     "data": {
      "image/png": "[encoded data removed]",
      "text/plain": [
       "<Figure size 1600x900 with 1 Axes>"
      ]
     },
     "metadata": {},
     "output_type": "display_data"
    }
   ],
   "source": [
    "plt.figure(figsize=(16,9))\n",
    "\n",
    "sns.barplot(x=x,y=y,color='black')\n",
    "sns.barplot(x=x,y=y2,color='cyan')\n",
    "\n",
    "plt.title('Number of words and unique words per chapter',fontsize=25)\n",
    "plt.xlabel('Chapters', fontsize=22)\n",
    "plt.ylabel('Number of Words',fontsize=22)\n",
    "plt.legend(labels=['Unique','Total'])\n",
    "\n",
    "fig = plt.gca()\n",
    "legends = fig.get_legend()\n",
    "legends.legendHandles[0].set_color('cyan')"
   ]
  },
  {
   "cell_type": "markdown",
   "metadata": {},
   "source": [
    "Honorable mentions:\n",
    "\n",
    "- [IMDB python](https://github.com/santhoshse7en/imdby/)\n",
    "- [google_search](https://pypi.org/project/googlesearch-python/) [1](https://github.com/QuantumByteStudios/google-search-on-console)\n",
    "- [research_gate]() [1](https://gist.github.com/dimitryzub/eee343faac72cb8b9894099e034381eb) [2](https://serpapi.com/blog/web-scraping-all-researchgate-publications-in-python/)\n",
    "- [wikipedia](https://pypi.org/project/wikipedia/)[1](https://github.com/goldsmith/Wikipedia)[2](https://www.mediawiki.org/wiki/Manual:Pywikibot)\n",
    "\n"
   ]
  },
  {
   "cell_type": "markdown",
   "metadata": {},
   "source": [
    "# Scrapy\n",
    "\n",
    "This part is not to be run in a notebook, but instead to have them as separate code. \n",
    "\n",
    "**NOTE:** All of the commands that are inside of this [] you can name them differently that the example. "
   ]
  },
  {
   "cell_type": "markdown",
   "metadata": {},
   "source": []
  },
  {
   "cell_type": "markdown",
   "metadata": {},
   "source": [
    "## Step 1: Creating a scrapy project\n",
    "\n",
    "Requirements to use scrapy:\n",
    "\n",
    "All of this process can be done directly from the console, but we strongly suggest to use Visual Code to complete the process.\n",
    "\n",
    "A virtual enviroment of python 3.9. Please refer to other wiki pages to make this environment.\n",
    "\n",
    "- `conda create -n [scrape] python=3.9 -y`\n",
    "- `conda activate scrape`\n",
    "\n",
    "Install the necesesary packages:\n",
    "\n",
    "- pip install scrapy\n",
    "\n",
    "Now to create a project, we just type in the terminal:\n",
    "\n",
    "- `scrapy startproject [name_of_the_project]`\n",
    "\n",
    "**NOTES:** Helpful command line commands:\n",
    "\n",
    "- `cd`: If done by itself, it lets you go back to the root folder. If done as `cd ..` lets you go back to the previous folder. If done as `cd Folder_name` lets you go inside the folder named Folder_name, if this folder exists in the current directory.\n",
    "\n",
    "- `ls`: This command lets you know all of the files and folders that are stored in the current directory you are on. If you run this just after creating a new scrapy project, the output should look like this:\n",
    "\n",
    "\n",
    "```\n",
    "├── [name_of_the_project]\n",
    "│   ├── [name_of_the_project]\n",
    "│   │   ├── spiders\n",
    "│   │       ├── `__init__.py`\n",
    "│   │   ├── `__init__.py`\n",
    "│   │   ├── `items.py`\n",
    "│   │   ├── `middlewares.py`\n",
    "│   │   ├── `pipelines.py`\n",
    "│   │   ├── `settings.py`\n",
    "│   ├── scrapy.cfg\n",
    "└── \n",
    "```\n",
    "\n",
    "\n"
   ]
  },
  {
   "cell_type": "markdown",
   "metadata": {},
   "source": [
    "Let's explain a bit about each code:\n",
    "\n",
    "The code `items.py`, `middleware.py` and `pipeline.py` are little helper tools that can become really useful if we are scrapping anything more that one page. Everything happens in the spiders folder, so any repetitive actions or functions, we can add them to these codes, so we can leave the spiders folder as clean as possible.\n",
    "\n",
    "We will work mainly with the spider folder."
   ]
  },
  {
   "cell_type": "markdown",
   "metadata": {},
   "source": [
    "## Step 2: Create your first spider\n",
    "\n",
    "For this part, we are going to be using a specific page that was designed to be scraped, meaning that it does not have bot detection in place, so we can browse it freely. You can change the page to which ever page you want to scrape. In the workshop, we will discuss the diference.\n",
    "\n",
    "\n",
    "To access the scrapable page, we can go to [This link](https://books.toscrape.com/)\n",
    "\n",
    "Now, part of building a spider is knowing where things are in the page. For this, we need to see the HTML source of the page. To access that, just right-click in any item in the page and scroll to the `Inspect` option. \n",
    "\n",
    "There we will be able to see what that item contains in the developer window.\n",
    "\n",
    "Now, to start your first spider, inside our terminal we need to be inside the spiders folder, and with our virtual enviroment activated. Once we made sure we are in the correct place, we can go ahead and type:\n",
    "\n",
    "`scrapy genspider [name_of_spider] [site_to_scrape]`\n",
    "\n",
    "In this example, make sure that the site to scrape is the home one, and you do not have to add the https:// or the end slash.\n",
    "\n",
    "For this example, the command would look like this:\n",
    "\n",
    "`scrapy genspider bookspider books.toscrape.com`\n",
    "\n",
    "Now if we run this, we can go to the spiders folder, and a new python code should have generated. In this case is the basic template and it should look something like this:"
   ]
  },
  {
   "cell_type": "code",
   "execution_count": null,
   "metadata": {},
   "outputs": [],
   "source": [
    "# The new code generated by the example code above:\n",
    "\n",
    "import scrapy\n",
    "\n",
    "class BookspiderSpider(scrapy.Spider):\n",
    "    name = 'bookspider'\n",
    "    allowed_domains = ['books.toscrape.com']\n",
    "    start_urls = ['http://books.toscrape.com/']\n",
    "\n",
    "    def parse(self, response):\n",
    "        pass\n"
   ]
  },
  {
   "cell_type": "markdown",
   "metadata": {},
   "source": [
    "Now, this step is not nesesary, since we can just change the code directly from the last code (the bookspider.py code), but a useful tool would be to use the console to see the changes before applying them. For this, we want to install the next library in our enviroment. We go back to our terminal and type:\n",
    "\n",
    "`pip install ipython`\n",
    "\n",
    "\n",
    "Once it is installed, we will go to the `scrapy.cfg` code in our main folder and give the nesesary permisions to use this in the console. \n",
    "\n",
    "In the [settings] section, we just add:\n",
    "\n",
    "`shell = ipython`\n",
    "\n",
    "We save it, and then we can go to the terminal and run:\n",
    "\n",
    "`scrapy shell`\n",
    "\n"
   ]
  },
  {
   "cell_type": "markdown",
   "metadata": {},
   "source": [
    "We are going to explore the CSS and html code for the page we choose. Some important commands to remember:\n",
    "\n",
    "- fetch\n",
    "- response\n",
    "- crawl\n",
    "\n",
    "The first step is to fetch the website we want to scrape:\n",
    "\n",
    "`fetch('')`\n",
    "\n",
    "For this example is : `fetch('https://books.toscrape.com/')`\n",
    "\n",
    "Then we can check the response of the website by typing\n",
    "\n",
    "`response`\n",
    "\n",
    "For this example is: `response.css('article.product_pod')`\n",
    "\n",
    "If everything went well, our status code should be 200. If you get anything different and you want to know what it means, you can check [this link](https://http.dev/status#:~:text=HTTP%20responses%20are%20always%20accompanied,between%20a%20client%20and%20server.) to see what each different status code mean.\n",
    "\n",
    "If our response is succesfull, we can go ahead and isolate the item we want to see. \n",
    "\n",
    "`response.ccs('')`\n",
    "\n",
    "### Now, how do we...\n",
    "\n",
    "- store all of the books in one variable?\n",
    "- see how many items we have stored?\n",
    "- store only the first book in one variable?"
   ]
  },
  {
   "cell_type": "markdown",
   "metadata": {},
   "source": [
    "Now that we divided the variables into all books and single book, we go back to the webpage to extract some more information. For this example the individual variable is called book.\n",
    "\n",
    "**Example:** To get the displayed title of the book\n",
    "\n",
    "`book.css('[the_containers]').get()`\n",
    "\n",
    "This will give you the tile as is displayed. If you want the whole title of the book, we need to change it to take into account the atribute that aligns with the title.\n",
    "\n",
    "`book.css('[the_containers]').attrib['']`\n",
    "\n",
    "This can be used in different ways.\n",
    "\n",
    "### Please try...\n",
    "\n",
    "- to have as response the url to see more of the book.\n",
    "- print the price of the book.\n",
    "\n",
    "So now that we know the positions we want to scrape, we can modify the spider (the parse function) to do it in an iterative way.\n",
    "\n",
    "### We want to:\n",
    "\n",
    "Have an iterative process that takes all of the books from a page, and returns the name, price and url of each one."
   ]
  },
  {
   "cell_type": "code",
   "execution_count": null,
   "metadata": {},
   "outputs": [],
   "source": [
    "# This is the isolated function. you should modify this in your spider code.\n",
    "\n",
    "def parse(self, response):\n",
    "    books = response.css('article.product_pod')\n",
    "    for book in books:\n",
    "        yield {\n",
    "            'name' : book.css('h3 a::text').get(),\n",
    "            #Alternative: book.css('h3 a').attrib['title']\n",
    "            'price' : book.css('.product_price .price_color::text').get(),\n",
    "            'url' : book.css('h3 a').attrib['href'],\n",
    "        }"
   ]
  },
  {
   "cell_type": "markdown",
   "metadata": {},
   "source": [
    "## Step 3: Navigate through the page with your spiders"
   ]
  },
  {
   "cell_type": "markdown",
   "metadata": {},
   "source": [
    "### For the next steps we want to...\n",
    "\n",
    "- Modify the function so we can get all of the books from all of the pages.\n",
    "- For the `next` button, what are the different ways to see the url for it.\n",
    "\n",
    "\n",
    "So what is the logic for us to continue to scrape the website until there is no more pages left?\n",
    "\n",
    "- ...\n",
    "\n",
    "\n",
    "NOTE: For this we are going to use a new command called `follow()`\n",
    "\n",
    "So how is our function looking like now:"
   ]
  },
  {
   "cell_type": "code",
   "execution_count": null,
   "metadata": {},
   "outputs": [],
   "source": [
    "def parse(self, response):\n",
    "    books = response.css('article.product_pod')\n",
    "    for book in books:\n",
    "        yield {\n",
    "                'name' : book.css('h3 a::text').get(),\n",
    "                #Alternative: book.css('h3 a').attrib['title']\n",
    "                'price' : book.css('.product_price .price_color::text').get(),\n",
    "                'url' : book.css('h3 a').attrib['href'],\n",
    "            }\n",
    "    next_page = response.css('li.next a::attr(href)').get()\n",
    "    #Alternative:  response.css('li.next a').attrib['href']\n",
    "    if next_page is not None:\n",
    "        next_page_url = 'http://books.toscrape.com/' + next_page\n",
    "        yield response.follow(next_page_url, callback = self.parse)"
   ]
  },
  {
   "cell_type": "markdown",
   "metadata": {},
   "source": [
    "Seeing the results from the last update:\n",
    "\n",
    "- What can you notice from the scraped items?\n",
    "- How can we improve the code to catch this error?\n",
    "\n",
    "\n",
    "Note:  We use something different for the next page url catcher. `urljoin()`"
   ]
  },
  {
   "cell_type": "code",
   "execution_count": null,
   "metadata": {},
   "outputs": [],
   "source": [
    "def parse(self, response):\n",
    "\n",
    "    books = response.css('article.product_pod')\n",
    "    for book in books:\n",
    "        yield {\n",
    "                'name' : book.css('h3 a::text').get(),\n",
    "                #Alternative: book.css('h3 a').attrib['title']\n",
    "                'price' : book.css('.product_price .price_color::text').get(),\n",
    "                'url' : book.css('h3 a').attrib['href'],\n",
    "            }\n",
    "    next_page =response.css('li.next a::attr(href)').get()\n",
    "    if next_page is not None:\n",
    "        next_page_url = response.urljoin(next_page)\n",
    "        yield response.follow(next_page_url, callback = self.parse)\n",
    "    \n"
   ]
  },
  {
   "cell_type": "markdown",
   "metadata": {},
   "source": [
    "Seeing the results from the last update:\n",
    "\n",
    "- What is different now?"
   ]
  },
  {
   "cell_type": "markdown",
   "metadata": {},
   "source": [
    "## Step 4: Extract data from each item of all pages\n",
    "\n",
    "Now that we know how to access certain data form each item, how do we...\n",
    "\n",
    "- Change our original function to parse not only the next page, but the next item.\n",
    "- Create a new function that helps us to scrape specific data from each item.\n",
    "\n",
    "We start by modifying the original `parse` function"
   ]
  },
  {
   "cell_type": "code",
   "execution_count": null,
   "metadata": {},
   "outputs": [],
   "source": [
    "def parse(self, response):\n",
    "    books = response.css('article.product_pod')\n",
    "    for book in books:\n",
    "        relative_url = book.css('h3 a ::attr(href)').get()\n",
    "        book_url = response.urljoin(relative_url)\n",
    "        yield response.follow(book_url, callback=self.parse_book_page)\n",
    "\n",
    "    next_page = response.css('li.next a ::attr(href)').get()\n",
    "    if next_page is not None:\n",
    "        next_page_url = response.urljoin(next_page)\n",
    "        yield response.follow(next_page_url, callback=self.parse)\n",
    "\n",
    "def parse_book_page(self, response):\n",
    "    table_rows = response.css(\"table tr\")\n",
    "        \n",
    "    yield {\n",
    "            'url' : response.url,\n",
    "            'title' : response.css('.product_main h1::text').get(),\n",
    "            'product_type': table_rows[1].css(\"td ::text\").get(),\n",
    "            'price_excl_tax': table_rows[2].css(\"td ::text\").get(),\n",
    "            'price_incl_tax': table_rows[3].css(\"td ::text\").get(),\n",
    "            'tax': table_rows[4].css(\"td ::text\").get(),\n",
    "            'availability': table_rows[5].css(\"td ::text\").get(),\n",
    "            'num_reviews': table_rows[6].css(\"td ::text\").get(),\n",
    "            'stars' : response.css(\"p.star-rating\").attrib['class'],\n",
    "            'category' : response.xpath(\"//ul[@class='breadcrumb']/li[@class='active']/preceding-sibling::li[1]/a/text()\").get(),\n",
    "            'description' : response.xpath(\"//div[@id='product_description']/following-sibling::p/text()\").get(),\n",
    "            'price': response.css('p.price_color ::text').get(),\n",
    "        }\n",
    "    # https://stackoverflow.com/questions/70462844/interpreting-callbacks-and-cb-kwargs-with-scrapy"
   ]
  },
  {
   "cell_type": "markdown",
   "metadata": {},
   "source": [
    "For the last code, we are going to break down the explanation for the path we selected:\n",
    "\n",
    "`//ul[@class='breadcrumb']/li[@class='active']/preceding-sibling::li[1]/a/text()\").get()`\n",
    "\n",
    "So, if we go to the page and select inspect on the area where we access the category, we go by different sections. The first section is the one that encapsulates the whole \"path\" section. This is the:\n",
    "\n",
    "`ul class = \"breadcrumb\"`\n",
    "\n",
    "After that, we have several `li` tags. In this case, this is a solution that works specifically for this problem, and that you might want to adjust when working with your own project. In this case, the logic is that the category is one place before the name of the book, so we can interpret it as:\n",
    "\n",
    "`li[@class='active']`\n",
    "\n",
    "This will take us to the name of the book, and since we know we want the name before it, we complement this with:\n",
    "\n",
    "`preceding-sibling::li[1]`\n",
    "\n",
    "Which means we take the preceding argument. The `a/text()` and `get()` arguments might seem familiar, as we want to collect the text inside the container we just accesed, and get the information inside the variable `category`. \n",
    "\n",
    "### Whats next?\n",
    "\n",
    "- Follow the path for the `description` variable. Does it make sense to you how do we get the description?"
   ]
  },
  {
   "cell_type": "markdown",
   "metadata": {},
   "source": [
    "Now the parse book function allows you to scrape the info for each book, you can decide what information you want in your output. \n",
    "\n",
    "Something different you can try is to save everithing directly to a csv file, so that you can start working with it straight away. To do this, we run in the terminal (outside of the scrapy shell):\n",
    "\n",
    "`scrapy crawl bookspider -o bookdata.csv`"
   ]
  },
  {
   "cell_type": "code",
   "execution_count": null,
   "metadata": {},
   "outputs": [],
   "source": [
    "def parse(self, response):\n",
    "    books = response.css('article.product_pod')\n",
    "    for book in books:\n",
    "        relative_url = book.css('h3 a ::attr(href)').get()\n",
    "        book_url = response.urljoin(relative_url)\n",
    "        yield response.follow(book_url, callback=self.parse_book_page)\n",
    "\n",
    "    next_page = response.css('li.next a ::attr(href)').get()\n",
    "    if next_page is not None:\n",
    "        next_page_url = response.urljoin(next_page)\n",
    "        yield response.follow(next_page_url, callback=self.parse)\n",
    "\n",
    "def parse_book_page(self, response):\n",
    "    table_rows = response.css(\"table tr\")\n",
    "        \n",
    "    yield {\n",
    "            'url' : response.url,\n",
    "            'title' : response.css('.product_main h1::text').get(),\n",
    "            'category' : response.xpath(\"//ul[@class='breadcrumb']/li[@class='active']/preceding-sibling::li[1]/a/text()\").get(),\n",
    "            'description' : response.xpath(\"//div[@id='product_description']/following-sibling::p/text()\").get(),\n",
    "            'price': response.css('p.price_color ::text').get(),\n",
    "        }"
   ]
  },
  {
   "cell_type": "markdown",
   "metadata": {},
   "source": [
    "Now, I have just used the type of data that I need, and saved it in a csv folder. To access it, we can just call the pandas library and see our new dataset."
   ]
  },
  {
   "cell_type": "code",
   "execution_count": 2,
   "metadata": {},
   "outputs": [
    {
     "data": {
      "text/html": [
       "<div>\n",
       "<style scoped>\n",
       "    .dataframe tbody tr th:only-of-type {\n",
       "        vertical-align: middle;\n",
       "    }\n",
       "\n",
       "    .dataframe tbody tr th {\n",
       "        vertical-align: top;\n",
       "    }\n",
       "\n",
       "    .dataframe thead th {\n",
       "        text-align: right;\n",
       "    }\n",
       "</style>\n",
       "<table border=\"1\" class=\"dataframe\">\n",
       "  <thead>\n",
       "    <tr style=\"text-align: right;\">\n",
       "      <th></th>\n",
       "      <th>url</th>\n",
       "      <th>title</th>\n",
       "      <th>category</th>\n",
       "      <th>description</th>\n",
       "      <th>price</th>\n",
       "    </tr>\n",
       "  </thead>\n",
       "  <tbody>\n",
       "    <tr>\n",
       "      <th>0</th>\n",
       "      <td>https://books.toscrape.com/catalogue/mesaerion...</td>\n",
       "      <td>Mesaerion: The Best Science Fiction Stories 18...</td>\n",
       "      <td>Science Fiction</td>\n",
       "      <td>Andrew Barger, award-winning author and engine...</td>\n",
       "      <td>£37.59</td>\n",
       "    </tr>\n",
       "    <tr>\n",
       "      <th>1</th>\n",
       "      <td>https://books.toscrape.com/catalogue/the-black...</td>\n",
       "      <td>The Black Maria</td>\n",
       "      <td>Poetry</td>\n",
       "      <td>Praise for Aracelis Girmay:\"[Girmay's] every l...</td>\n",
       "      <td>£52.15</td>\n",
       "    </tr>\n",
       "    <tr>\n",
       "      <th>2</th>\n",
       "      <td>https://books.toscrape.com/catalogue/the-boys-...</td>\n",
       "      <td>The Boys in the Boat: Nine Americans and Their...</td>\n",
       "      <td>Default</td>\n",
       "      <td>For readers of Laura Hillenbrand's Seabiscuit ...</td>\n",
       "      <td>£22.60</td>\n",
       "    </tr>\n",
       "    <tr>\n",
       "      <th>3</th>\n",
       "      <td>https://books.toscrape.com/catalogue/set-me-fr...</td>\n",
       "      <td>Set Me Free</td>\n",
       "      <td>Young Adult</td>\n",
       "      <td>Aaron Ledbetter’s future had been planned out ...</td>\n",
       "      <td>£17.46</td>\n",
       "    </tr>\n",
       "    <tr>\n",
       "      <th>4</th>\n",
       "      <td>https://books.toscrape.com/catalogue/starving-...</td>\n",
       "      <td>Starving Hearts (Triangular Trade Trilogy, #1)</td>\n",
       "      <td>Default</td>\n",
       "      <td>Since her assault, Miss Annette Chetwynd has b...</td>\n",
       "      <td>£13.99</td>\n",
       "    </tr>\n",
       "  </tbody>\n",
       "</table>\n",
       "</div>"
      ],
      "text/plain": [
       "                                                 url  \\\n",
       "0  https://books.toscrape.com/catalogue/mesaerion...   \n",
       "1  https://books.toscrape.com/catalogue/the-black...   \n",
       "2  https://books.toscrape.com/catalogue/the-boys-...   \n",
       "3  https://books.toscrape.com/catalogue/set-me-fr...   \n",
       "4  https://books.toscrape.com/catalogue/starving-...   \n",
       "\n",
       "                                               title         category  \\\n",
       "0  Mesaerion: The Best Science Fiction Stories 18...  Science Fiction   \n",
       "1                                    The Black Maria           Poetry   \n",
       "2  The Boys in the Boat: Nine Americans and Their...          Default   \n",
       "3                                        Set Me Free      Young Adult   \n",
       "4     Starving Hearts (Triangular Trade Trilogy, #1)          Default   \n",
       "\n",
       "                                         description   price  \n",
       "0  Andrew Barger, award-winning author and engine...  £37.59  \n",
       "1  Praise for Aracelis Girmay:\"[Girmay's] every l...  £52.15  \n",
       "2  For readers of Laura Hillenbrand's Seabiscuit ...  £22.60  \n",
       "3  Aaron Ledbetter’s future had been planned out ...  £17.46  \n",
       "4  Since her assault, Miss Annette Chetwynd has b...  £13.99  "
      ]
     },
     "execution_count": 2,
     "metadata": {},
     "output_type": "execute_result"
    }
   ],
   "source": [
    "import pandas as pd\n",
    "\n",
    "dataset = pd.read_csv('bookscraper/bookscraper/bookdata.csv')\n",
    "\n",
    "dataset.head()"
   ]
  },
  {
   "cell_type": "markdown",
   "metadata": {},
   "source": [
    "## Step 4: Store your data\n",
    "\n",
    "For this step, we already started to do it with the csv file. But how can I store data from a different format?\n",
    "\n"
   ]
  },
  {
   "cell_type": "code",
   "execution_count": null,
   "metadata": {},
   "outputs": [],
   "source": [
    "def parse(self, response):\n",
    "    books = response.css('article.product_pod')\n",
    "    for book in books:\n",
    "        relative_url = book.css('h3 a ::attr(href)').get()\n",
    "        book_url = response.urljoin(relative_url)\n",
    "        yield response.follow(book_url, callback=self.parse_book_page)\n",
    "\n",
    "    next_page = response.css('li.next a ::attr(href)').get()\n",
    "    if next_page is not None:\n",
    "        next_page_url = response.urljoin(next_page)\n",
    "        yield response.follow(next_page_url, callback=self.parse)\n",
    "\n",
    "\n",
    "def parse_images (self,response):\n",
    "    \n",
    "    pass"
   ]
  }
 ],
 "metadata": {
  "kernelspec": {
   "display_name": "scrape",
   "language": "python",
   "name": "python3"
  },
  "language_info": {
   "codemirror_mode": {
    "name": "ipython",
    "version": 3
   },
   "file_extension": ".py",
   "mimetype": "text/x-python",
   "name": "python",
   "nbconvert_exporter": "python",
   "pygments_lexer": "ipython3",
   "version": "3.9.19"
  }
 },
 "nbformat": 4,
 "nbformat_minor": 2
}
